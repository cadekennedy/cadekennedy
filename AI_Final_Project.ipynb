{
  "nbformat": 4,
  "nbformat_minor": 0,
  "metadata": {
    "colab": {
      "provenance": []
    },
    "kernelspec": {
      "name": "python3",
      "display_name": "Python 3"
    },
    "language_info": {
      "name": "python"
    }
  },
  "cells": [
    {
      "cell_type": "code",
      "execution_count": null,
      "metadata": {
        "colab": {
          "base_uri": "https://localhost:8080/"
        },
        "id": "tqIzjEptmGH3",
        "outputId": "0633bc91-b6f9-4f77-8553-b020d0b29ab5"
      },
      "outputs": [
        {
          "output_type": "stream",
          "name": "stdout",
          "text": [
            "Requirement already satisfied: yfinance in /usr/local/lib/python3.10/dist-packages (0.2.31)\n",
            "Requirement already satisfied: pandas>=1.3.0 in /usr/local/lib/python3.10/dist-packages (from yfinance) (1.5.3)\n",
            "Requirement already satisfied: numpy>=1.16.5 in /usr/local/lib/python3.10/dist-packages (from yfinance) (1.23.5)\n",
            "Requirement already satisfied: requests>=2.31 in /usr/local/lib/python3.10/dist-packages (from yfinance) (2.31.0)\n",
            "Requirement already satisfied: multitasking>=0.0.7 in /usr/local/lib/python3.10/dist-packages (from yfinance) (0.0.11)\n",
            "Requirement already satisfied: lxml>=4.9.1 in /usr/local/lib/python3.10/dist-packages (from yfinance) (4.9.3)\n",
            "Requirement already satisfied: appdirs>=1.4.4 in /usr/local/lib/python3.10/dist-packages (from yfinance) (1.4.4)\n",
            "Requirement already satisfied: pytz>=2022.5 in /usr/local/lib/python3.10/dist-packages (from yfinance) (2023.3.post1)\n",
            "Requirement already satisfied: frozendict>=2.3.4 in /usr/local/lib/python3.10/dist-packages (from yfinance) (2.3.8)\n",
            "Requirement already satisfied: peewee>=3.16.2 in /usr/local/lib/python3.10/dist-packages (from yfinance) (3.17.0)\n",
            "Requirement already satisfied: beautifulsoup4>=4.11.1 in /usr/local/lib/python3.10/dist-packages (from yfinance) (4.11.2)\n",
            "Requirement already satisfied: html5lib>=1.1 in /usr/local/lib/python3.10/dist-packages (from yfinance) (1.1)\n",
            "Requirement already satisfied: soupsieve>1.2 in /usr/local/lib/python3.10/dist-packages (from beautifulsoup4>=4.11.1->yfinance) (2.5)\n",
            "Requirement already satisfied: six>=1.9 in /usr/local/lib/python3.10/dist-packages (from html5lib>=1.1->yfinance) (1.16.0)\n",
            "Requirement already satisfied: webencodings in /usr/local/lib/python3.10/dist-packages (from html5lib>=1.1->yfinance) (0.5.1)\n",
            "Requirement already satisfied: python-dateutil>=2.8.1 in /usr/local/lib/python3.10/dist-packages (from pandas>=1.3.0->yfinance) (2.8.2)\n",
            "Requirement already satisfied: charset-normalizer<4,>=2 in /usr/local/lib/python3.10/dist-packages (from requests>=2.31->yfinance) (3.3.2)\n",
            "Requirement already satisfied: idna<4,>=2.5 in /usr/local/lib/python3.10/dist-packages (from requests>=2.31->yfinance) (3.4)\n",
            "Requirement already satisfied: urllib3<3,>=1.21.1 in /usr/local/lib/python3.10/dist-packages (from requests>=2.31->yfinance) (2.0.7)\n",
            "Requirement already satisfied: certifi>=2017.4.17 in /usr/local/lib/python3.10/dist-packages (from requests>=2.31->yfinance) (2023.7.22)\n"
          ]
        }
      ],
      "source": [
        "!pip install yfinance\n",
        "import yfinance as yf\n",
        "import numpy as np\n",
        "import pandas as pd"
      ]
    },
    {
      "cell_type": "code",
      "source": [
        "pennyStock = yf.Ticker(\"MMAT\")\n",
        "pennyStock = pennyStock.history(period=\"max\")"
      ],
      "metadata": {
        "id": "D5ro4Ae5nqMl"
      },
      "execution_count": null,
      "outputs": []
    },
    {
      "cell_type": "code",
      "source": [
        "pennyStock"
      ],
      "metadata": {
        "colab": {
          "base_uri": "https://localhost:8080/",
          "height": 455
        },
        "id": "3ldZaM41npEg",
        "outputId": "9f034501-ecc1-4e15-93ef-fc558d17492a"
      },
      "execution_count": null,
      "outputs": [
        {
          "output_type": "execute_result",
          "data": {
            "text/plain": [
              "                            Open   High    Low  Close    Volume  Dividends  \\\n",
              "Date                                                                         \n",
              "2010-11-08 00:00:00-05:00  0.505  0.505  0.505  0.505      1000        0.0   \n",
              "2010-11-09 00:00:00-05:00  0.505  0.505  0.505  0.505         0        0.0   \n",
              "2010-11-10 00:00:00-05:00  0.505  0.505  0.505  0.505         0        0.0   \n",
              "2010-11-11 00:00:00-05:00  0.505  0.505  0.505  0.505         0        0.0   \n",
              "2010-11-12 00:00:00-05:00  0.505  0.505  0.505  0.505         0        0.0   \n",
              "...                          ...    ...    ...    ...       ...        ...   \n",
              "2023-11-17 00:00:00-05:00  0.100  0.100  0.090  0.090   5702500        0.0   \n",
              "2023-11-20 00:00:00-05:00  0.100  0.100  0.090  0.090   4460100        0.0   \n",
              "2023-11-21 00:00:00-05:00  0.090  0.090  0.090  0.090   5998200        0.0   \n",
              "2023-11-22 00:00:00-05:00  0.090  0.090  0.080  0.080  11181800        0.0   \n",
              "2023-11-24 00:00:00-05:00  0.080  0.080  0.080  0.080   3026900        0.0   \n",
              "\n",
              "                           Stock Splits  \n",
              "Date                                     \n",
              "2010-11-08 00:00:00-05:00           0.0  \n",
              "2010-11-09 00:00:00-05:00           0.0  \n",
              "2010-11-10 00:00:00-05:00           0.0  \n",
              "2010-11-11 00:00:00-05:00           0.0  \n",
              "2010-11-12 00:00:00-05:00           0.0  \n",
              "...                                 ...  \n",
              "2023-11-17 00:00:00-05:00           0.0  \n",
              "2023-11-20 00:00:00-05:00           0.0  \n",
              "2023-11-21 00:00:00-05:00           0.0  \n",
              "2023-11-22 00:00:00-05:00           0.0  \n",
              "2023-11-24 00:00:00-05:00           0.0  \n",
              "\n",
              "[3284 rows x 7 columns]"
            ],
            "text/html": [
              "\n",
              "  <div id=\"df-1ee6bb25-d5e7-4dbf-89b1-47e4dbc1a022\" class=\"colab-df-container\">\n",
              "    <div>\n",
              "<style scoped>\n",
              "    .dataframe tbody tr th:only-of-type {\n",
              "        vertical-align: middle;\n",
              "    }\n",
              "\n",
              "    .dataframe tbody tr th {\n",
              "        vertical-align: top;\n",
              "    }\n",
              "\n",
              "    .dataframe thead th {\n",
              "        text-align: right;\n",
              "    }\n",
              "</style>\n",
              "<table border=\"1\" class=\"dataframe\">\n",
              "  <thead>\n",
              "    <tr style=\"text-align: right;\">\n",
              "      <th></th>\n",
              "      <th>Open</th>\n",
              "      <th>High</th>\n",
              "      <th>Low</th>\n",
              "      <th>Close</th>\n",
              "      <th>Volume</th>\n",
              "      <th>Dividends</th>\n",
              "      <th>Stock Splits</th>\n",
              "    </tr>\n",
              "    <tr>\n",
              "      <th>Date</th>\n",
              "      <th></th>\n",
              "      <th></th>\n",
              "      <th></th>\n",
              "      <th></th>\n",
              "      <th></th>\n",
              "      <th></th>\n",
              "      <th></th>\n",
              "    </tr>\n",
              "  </thead>\n",
              "  <tbody>\n",
              "    <tr>\n",
              "      <th>2010-11-08 00:00:00-05:00</th>\n",
              "      <td>0.505</td>\n",
              "      <td>0.505</td>\n",
              "      <td>0.505</td>\n",
              "      <td>0.505</td>\n",
              "      <td>1000</td>\n",
              "      <td>0.0</td>\n",
              "      <td>0.0</td>\n",
              "    </tr>\n",
              "    <tr>\n",
              "      <th>2010-11-09 00:00:00-05:00</th>\n",
              "      <td>0.505</td>\n",
              "      <td>0.505</td>\n",
              "      <td>0.505</td>\n",
              "      <td>0.505</td>\n",
              "      <td>0</td>\n",
              "      <td>0.0</td>\n",
              "      <td>0.0</td>\n",
              "    </tr>\n",
              "    <tr>\n",
              "      <th>2010-11-10 00:00:00-05:00</th>\n",
              "      <td>0.505</td>\n",
              "      <td>0.505</td>\n",
              "      <td>0.505</td>\n",
              "      <td>0.505</td>\n",
              "      <td>0</td>\n",
              "      <td>0.0</td>\n",
              "      <td>0.0</td>\n",
              "    </tr>\n",
              "    <tr>\n",
              "      <th>2010-11-11 00:00:00-05:00</th>\n",
              "      <td>0.505</td>\n",
              "      <td>0.505</td>\n",
              "      <td>0.505</td>\n",
              "      <td>0.505</td>\n",
              "      <td>0</td>\n",
              "      <td>0.0</td>\n",
              "      <td>0.0</td>\n",
              "    </tr>\n",
              "    <tr>\n",
              "      <th>2010-11-12 00:00:00-05:00</th>\n",
              "      <td>0.505</td>\n",
              "      <td>0.505</td>\n",
              "      <td>0.505</td>\n",
              "      <td>0.505</td>\n",
              "      <td>0</td>\n",
              "      <td>0.0</td>\n",
              "      <td>0.0</td>\n",
              "    </tr>\n",
              "    <tr>\n",
              "      <th>...</th>\n",
              "      <td>...</td>\n",
              "      <td>...</td>\n",
              "      <td>...</td>\n",
              "      <td>...</td>\n",
              "      <td>...</td>\n",
              "      <td>...</td>\n",
              "      <td>...</td>\n",
              "    </tr>\n",
              "    <tr>\n",
              "      <th>2023-11-17 00:00:00-05:00</th>\n",
              "      <td>0.100</td>\n",
              "      <td>0.100</td>\n",
              "      <td>0.090</td>\n",
              "      <td>0.090</td>\n",
              "      <td>5702500</td>\n",
              "      <td>0.0</td>\n",
              "      <td>0.0</td>\n",
              "    </tr>\n",
              "    <tr>\n",
              "      <th>2023-11-20 00:00:00-05:00</th>\n",
              "      <td>0.100</td>\n",
              "      <td>0.100</td>\n",
              "      <td>0.090</td>\n",
              "      <td>0.090</td>\n",
              "      <td>4460100</td>\n",
              "      <td>0.0</td>\n",
              "      <td>0.0</td>\n",
              "    </tr>\n",
              "    <tr>\n",
              "      <th>2023-11-21 00:00:00-05:00</th>\n",
              "      <td>0.090</td>\n",
              "      <td>0.090</td>\n",
              "      <td>0.090</td>\n",
              "      <td>0.090</td>\n",
              "      <td>5998200</td>\n",
              "      <td>0.0</td>\n",
              "      <td>0.0</td>\n",
              "    </tr>\n",
              "    <tr>\n",
              "      <th>2023-11-22 00:00:00-05:00</th>\n",
              "      <td>0.090</td>\n",
              "      <td>0.090</td>\n",
              "      <td>0.080</td>\n",
              "      <td>0.080</td>\n",
              "      <td>11181800</td>\n",
              "      <td>0.0</td>\n",
              "      <td>0.0</td>\n",
              "    </tr>\n",
              "    <tr>\n",
              "      <th>2023-11-24 00:00:00-05:00</th>\n",
              "      <td>0.080</td>\n",
              "      <td>0.080</td>\n",
              "      <td>0.080</td>\n",
              "      <td>0.080</td>\n",
              "      <td>3026900</td>\n",
              "      <td>0.0</td>\n",
              "      <td>0.0</td>\n",
              "    </tr>\n",
              "  </tbody>\n",
              "</table>\n",
              "<p>3284 rows × 7 columns</p>\n",
              "</div>\n",
              "    <div class=\"colab-df-buttons\">\n",
              "\n",
              "  <div class=\"colab-df-container\">\n",
              "    <button class=\"colab-df-convert\" onclick=\"convertToInteractive('df-1ee6bb25-d5e7-4dbf-89b1-47e4dbc1a022')\"\n",
              "            title=\"Convert this dataframe to an interactive table.\"\n",
              "            style=\"display:none;\">\n",
              "\n",
              "  <svg xmlns=\"http://www.w3.org/2000/svg\" height=\"24px\" viewBox=\"0 -960 960 960\">\n",
              "    <path d=\"M120-120v-720h720v720H120Zm60-500h600v-160H180v160Zm220 220h160v-160H400v160Zm0 220h160v-160H400v160ZM180-400h160v-160H180v160Zm440 0h160v-160H620v160ZM180-180h160v-160H180v160Zm440 0h160v-160H620v160Z\"/>\n",
              "  </svg>\n",
              "    </button>\n",
              "\n",
              "  <style>\n",
              "    .colab-df-container {\n",
              "      display:flex;\n",
              "      gap: 12px;\n",
              "    }\n",
              "\n",
              "    .colab-df-convert {\n",
              "      background-color: #E8F0FE;\n",
              "      border: none;\n",
              "      border-radius: 50%;\n",
              "      cursor: pointer;\n",
              "      display: none;\n",
              "      fill: #1967D2;\n",
              "      height: 32px;\n",
              "      padding: 0 0 0 0;\n",
              "      width: 32px;\n",
              "    }\n",
              "\n",
              "    .colab-df-convert:hover {\n",
              "      background-color: #E2EBFA;\n",
              "      box-shadow: 0px 1px 2px rgba(60, 64, 67, 0.3), 0px 1px 3px 1px rgba(60, 64, 67, 0.15);\n",
              "      fill: #174EA6;\n",
              "    }\n",
              "\n",
              "    .colab-df-buttons div {\n",
              "      margin-bottom: 4px;\n",
              "    }\n",
              "\n",
              "    [theme=dark] .colab-df-convert {\n",
              "      background-color: #3B4455;\n",
              "      fill: #D2E3FC;\n",
              "    }\n",
              "\n",
              "    [theme=dark] .colab-df-convert:hover {\n",
              "      background-color: #434B5C;\n",
              "      box-shadow: 0px 1px 3px 1px rgba(0, 0, 0, 0.15);\n",
              "      filter: drop-shadow(0px 1px 2px rgba(0, 0, 0, 0.3));\n",
              "      fill: #FFFFFF;\n",
              "    }\n",
              "  </style>\n",
              "\n",
              "    <script>\n",
              "      const buttonEl =\n",
              "        document.querySelector('#df-1ee6bb25-d5e7-4dbf-89b1-47e4dbc1a022 button.colab-df-convert');\n",
              "      buttonEl.style.display =\n",
              "        google.colab.kernel.accessAllowed ? 'block' : 'none';\n",
              "\n",
              "      async function convertToInteractive(key) {\n",
              "        const element = document.querySelector('#df-1ee6bb25-d5e7-4dbf-89b1-47e4dbc1a022');\n",
              "        const dataTable =\n",
              "          await google.colab.kernel.invokeFunction('convertToInteractive',\n",
              "                                                    [key], {});\n",
              "        if (!dataTable) return;\n",
              "\n",
              "        const docLinkHtml = 'Like what you see? Visit the ' +\n",
              "          '<a target=\"_blank\" href=https://colab.research.google.com/notebooks/data_table.ipynb>data table notebook</a>'\n",
              "          + ' to learn more about interactive tables.';\n",
              "        element.innerHTML = '';\n",
              "        dataTable['output_type'] = 'display_data';\n",
              "        await google.colab.output.renderOutput(dataTable, element);\n",
              "        const docLink = document.createElement('div');\n",
              "        docLink.innerHTML = docLinkHtml;\n",
              "        element.appendChild(docLink);\n",
              "      }\n",
              "    </script>\n",
              "  </div>\n",
              "\n",
              "\n",
              "<div id=\"df-c4efcf35-b683-44fc-8818-e605c6aa582e\">\n",
              "  <button class=\"colab-df-quickchart\" onclick=\"quickchart('df-c4efcf35-b683-44fc-8818-e605c6aa582e')\"\n",
              "            title=\"Suggest charts\"\n",
              "            style=\"display:none;\">\n",
              "\n",
              "<svg xmlns=\"http://www.w3.org/2000/svg\" height=\"24px\"viewBox=\"0 0 24 24\"\n",
              "     width=\"24px\">\n",
              "    <g>\n",
              "        <path d=\"M19 3H5c-1.1 0-2 .9-2 2v14c0 1.1.9 2 2 2h14c1.1 0 2-.9 2-2V5c0-1.1-.9-2-2-2zM9 17H7v-7h2v7zm4 0h-2V7h2v10zm4 0h-2v-4h2v4z\"/>\n",
              "    </g>\n",
              "</svg>\n",
              "  </button>\n",
              "\n",
              "<style>\n",
              "  .colab-df-quickchart {\n",
              "      --bg-color: #E8F0FE;\n",
              "      --fill-color: #1967D2;\n",
              "      --hover-bg-color: #E2EBFA;\n",
              "      --hover-fill-color: #174EA6;\n",
              "      --disabled-fill-color: #AAA;\n",
              "      --disabled-bg-color: #DDD;\n",
              "  }\n",
              "\n",
              "  [theme=dark] .colab-df-quickchart {\n",
              "      --bg-color: #3B4455;\n",
              "      --fill-color: #D2E3FC;\n",
              "      --hover-bg-color: #434B5C;\n",
              "      --hover-fill-color: #FFFFFF;\n",
              "      --disabled-bg-color: #3B4455;\n",
              "      --disabled-fill-color: #666;\n",
              "  }\n",
              "\n",
              "  .colab-df-quickchart {\n",
              "    background-color: var(--bg-color);\n",
              "    border: none;\n",
              "    border-radius: 50%;\n",
              "    cursor: pointer;\n",
              "    display: none;\n",
              "    fill: var(--fill-color);\n",
              "    height: 32px;\n",
              "    padding: 0;\n",
              "    width: 32px;\n",
              "  }\n",
              "\n",
              "  .colab-df-quickchart:hover {\n",
              "    background-color: var(--hover-bg-color);\n",
              "    box-shadow: 0 1px 2px rgba(60, 64, 67, 0.3), 0 1px 3px 1px rgba(60, 64, 67, 0.15);\n",
              "    fill: var(--button-hover-fill-color);\n",
              "  }\n",
              "\n",
              "  .colab-df-quickchart-complete:disabled,\n",
              "  .colab-df-quickchart-complete:disabled:hover {\n",
              "    background-color: var(--disabled-bg-color);\n",
              "    fill: var(--disabled-fill-color);\n",
              "    box-shadow: none;\n",
              "  }\n",
              "\n",
              "  .colab-df-spinner {\n",
              "    border: 2px solid var(--fill-color);\n",
              "    border-color: transparent;\n",
              "    border-bottom-color: var(--fill-color);\n",
              "    animation:\n",
              "      spin 1s steps(1) infinite;\n",
              "  }\n",
              "\n",
              "  @keyframes spin {\n",
              "    0% {\n",
              "      border-color: transparent;\n",
              "      border-bottom-color: var(--fill-color);\n",
              "      border-left-color: var(--fill-color);\n",
              "    }\n",
              "    20% {\n",
              "      border-color: transparent;\n",
              "      border-left-color: var(--fill-color);\n",
              "      border-top-color: var(--fill-color);\n",
              "    }\n",
              "    30% {\n",
              "      border-color: transparent;\n",
              "      border-left-color: var(--fill-color);\n",
              "      border-top-color: var(--fill-color);\n",
              "      border-right-color: var(--fill-color);\n",
              "    }\n",
              "    40% {\n",
              "      border-color: transparent;\n",
              "      border-right-color: var(--fill-color);\n",
              "      border-top-color: var(--fill-color);\n",
              "    }\n",
              "    60% {\n",
              "      border-color: transparent;\n",
              "      border-right-color: var(--fill-color);\n",
              "    }\n",
              "    80% {\n",
              "      border-color: transparent;\n",
              "      border-right-color: var(--fill-color);\n",
              "      border-bottom-color: var(--fill-color);\n",
              "    }\n",
              "    90% {\n",
              "      border-color: transparent;\n",
              "      border-bottom-color: var(--fill-color);\n",
              "    }\n",
              "  }\n",
              "</style>\n",
              "\n",
              "  <script>\n",
              "    async function quickchart(key) {\n",
              "      const quickchartButtonEl =\n",
              "        document.querySelector('#' + key + ' button');\n",
              "      quickchartButtonEl.disabled = true;  // To prevent multiple clicks.\n",
              "      quickchartButtonEl.classList.add('colab-df-spinner');\n",
              "      try {\n",
              "        const charts = await google.colab.kernel.invokeFunction(\n",
              "            'suggestCharts', [key], {});\n",
              "      } catch (error) {\n",
              "        console.error('Error during call to suggestCharts:', error);\n",
              "      }\n",
              "      quickchartButtonEl.classList.remove('colab-df-spinner');\n",
              "      quickchartButtonEl.classList.add('colab-df-quickchart-complete');\n",
              "    }\n",
              "    (() => {\n",
              "      let quickchartButtonEl =\n",
              "        document.querySelector('#df-c4efcf35-b683-44fc-8818-e605c6aa582e button');\n",
              "      quickchartButtonEl.style.display =\n",
              "        google.colab.kernel.accessAllowed ? 'block' : 'none';\n",
              "    })();\n",
              "  </script>\n",
              "</div>\n",
              "    </div>\n",
              "  </div>\n"
            ]
          },
          "metadata": {},
          "execution_count": 3
        }
      ]
    },
    {
      "cell_type": "code",
      "source": [
        "blueChip = yf.Ticker(\"AAPL\")\n",
        "blueChip = blueChip.history(period=\"max\")\n",
        "blueChip"
      ],
      "metadata": {
        "colab": {
          "base_uri": "https://localhost:8080/",
          "height": 646
        },
        "id": "TKKvCAjJn7gr",
        "outputId": "e97bfce3-f940-4562-bfd3-7e727769c802"
      },
      "execution_count": null,
      "outputs": [
        {
          "output_type": "execute_result",
          "data": {
            "text/plain": [
              "                                 Open        High         Low       Close  \\\n",
              "Date                                                                        \n",
              "1980-12-12 00:00:00-05:00    0.099319    0.099750    0.099319    0.099319   \n",
              "1980-12-15 00:00:00-05:00    0.094569    0.094569    0.094137    0.094137   \n",
              "1980-12-16 00:00:00-05:00    0.087659    0.087659    0.087228    0.087228   \n",
              "1980-12-17 00:00:00-05:00    0.089387    0.089818    0.089387    0.089387   \n",
              "1980-12-18 00:00:00-05:00    0.091978    0.092410    0.091978    0.091978   \n",
              "...                               ...         ...         ...         ...   \n",
              "2023-11-17 00:00:00-05:00  190.250000  190.380005  188.570007  189.690002   \n",
              "2023-11-20 00:00:00-05:00  189.889999  191.910004  189.880005  191.449997   \n",
              "2023-11-21 00:00:00-05:00  191.410004  191.520004  189.740005  190.639999   \n",
              "2023-11-22 00:00:00-05:00  191.490005  192.929993  190.830002  191.309998   \n",
              "2023-11-24 00:00:00-05:00  190.869995  190.899994  189.250000  189.970001   \n",
              "\n",
              "                              Volume  Dividends  Stock Splits  \n",
              "Date                                                           \n",
              "1980-12-12 00:00:00-05:00  469033600        0.0           0.0  \n",
              "1980-12-15 00:00:00-05:00  175884800        0.0           0.0  \n",
              "1980-12-16 00:00:00-05:00  105728000        0.0           0.0  \n",
              "1980-12-17 00:00:00-05:00   86441600        0.0           0.0  \n",
              "1980-12-18 00:00:00-05:00   73449600        0.0           0.0  \n",
              "...                              ...        ...           ...  \n",
              "2023-11-17 00:00:00-05:00   50922700        0.0           0.0  \n",
              "2023-11-20 00:00:00-05:00   46505100        0.0           0.0  \n",
              "2023-11-21 00:00:00-05:00   38134500        0.0           0.0  \n",
              "2023-11-22 00:00:00-05:00   39617700        0.0           0.0  \n",
              "2023-11-24 00:00:00-05:00   24048300        0.0           0.0  \n",
              "\n",
              "[10829 rows x 7 columns]"
            ],
            "text/html": [
              "\n",
              "  <div id=\"df-3120bef2-45f0-4580-9c6c-b75851fe479e\" class=\"colab-df-container\">\n",
              "    <div>\n",
              "<style scoped>\n",
              "    .dataframe tbody tr th:only-of-type {\n",
              "        vertical-align: middle;\n",
              "    }\n",
              "\n",
              "    .dataframe tbody tr th {\n",
              "        vertical-align: top;\n",
              "    }\n",
              "\n",
              "    .dataframe thead th {\n",
              "        text-align: right;\n",
              "    }\n",
              "</style>\n",
              "<table border=\"1\" class=\"dataframe\">\n",
              "  <thead>\n",
              "    <tr style=\"text-align: right;\">\n",
              "      <th></th>\n",
              "      <th>Open</th>\n",
              "      <th>High</th>\n",
              "      <th>Low</th>\n",
              "      <th>Close</th>\n",
              "      <th>Volume</th>\n",
              "      <th>Dividends</th>\n",
              "      <th>Stock Splits</th>\n",
              "    </tr>\n",
              "    <tr>\n",
              "      <th>Date</th>\n",
              "      <th></th>\n",
              "      <th></th>\n",
              "      <th></th>\n",
              "      <th></th>\n",
              "      <th></th>\n",
              "      <th></th>\n",
              "      <th></th>\n",
              "    </tr>\n",
              "  </thead>\n",
              "  <tbody>\n",
              "    <tr>\n",
              "      <th>1980-12-12 00:00:00-05:00</th>\n",
              "      <td>0.099319</td>\n",
              "      <td>0.099750</td>\n",
              "      <td>0.099319</td>\n",
              "      <td>0.099319</td>\n",
              "      <td>469033600</td>\n",
              "      <td>0.0</td>\n",
              "      <td>0.0</td>\n",
              "    </tr>\n",
              "    <tr>\n",
              "      <th>1980-12-15 00:00:00-05:00</th>\n",
              "      <td>0.094569</td>\n",
              "      <td>0.094569</td>\n",
              "      <td>0.094137</td>\n",
              "      <td>0.094137</td>\n",
              "      <td>175884800</td>\n",
              "      <td>0.0</td>\n",
              "      <td>0.0</td>\n",
              "    </tr>\n",
              "    <tr>\n",
              "      <th>1980-12-16 00:00:00-05:00</th>\n",
              "      <td>0.087659</td>\n",
              "      <td>0.087659</td>\n",
              "      <td>0.087228</td>\n",
              "      <td>0.087228</td>\n",
              "      <td>105728000</td>\n",
              "      <td>0.0</td>\n",
              "      <td>0.0</td>\n",
              "    </tr>\n",
              "    <tr>\n",
              "      <th>1980-12-17 00:00:00-05:00</th>\n",
              "      <td>0.089387</td>\n",
              "      <td>0.089818</td>\n",
              "      <td>0.089387</td>\n",
              "      <td>0.089387</td>\n",
              "      <td>86441600</td>\n",
              "      <td>0.0</td>\n",
              "      <td>0.0</td>\n",
              "    </tr>\n",
              "    <tr>\n",
              "      <th>1980-12-18 00:00:00-05:00</th>\n",
              "      <td>0.091978</td>\n",
              "      <td>0.092410</td>\n",
              "      <td>0.091978</td>\n",
              "      <td>0.091978</td>\n",
              "      <td>73449600</td>\n",
              "      <td>0.0</td>\n",
              "      <td>0.0</td>\n",
              "    </tr>\n",
              "    <tr>\n",
              "      <th>...</th>\n",
              "      <td>...</td>\n",
              "      <td>...</td>\n",
              "      <td>...</td>\n",
              "      <td>...</td>\n",
              "      <td>...</td>\n",
              "      <td>...</td>\n",
              "      <td>...</td>\n",
              "    </tr>\n",
              "    <tr>\n",
              "      <th>2023-11-17 00:00:00-05:00</th>\n",
              "      <td>190.250000</td>\n",
              "      <td>190.380005</td>\n",
              "      <td>188.570007</td>\n",
              "      <td>189.690002</td>\n",
              "      <td>50922700</td>\n",
              "      <td>0.0</td>\n",
              "      <td>0.0</td>\n",
              "    </tr>\n",
              "    <tr>\n",
              "      <th>2023-11-20 00:00:00-05:00</th>\n",
              "      <td>189.889999</td>\n",
              "      <td>191.910004</td>\n",
              "      <td>189.880005</td>\n",
              "      <td>191.449997</td>\n",
              "      <td>46505100</td>\n",
              "      <td>0.0</td>\n",
              "      <td>0.0</td>\n",
              "    </tr>\n",
              "    <tr>\n",
              "      <th>2023-11-21 00:00:00-05:00</th>\n",
              "      <td>191.410004</td>\n",
              "      <td>191.520004</td>\n",
              "      <td>189.740005</td>\n",
              "      <td>190.639999</td>\n",
              "      <td>38134500</td>\n",
              "      <td>0.0</td>\n",
              "      <td>0.0</td>\n",
              "    </tr>\n",
              "    <tr>\n",
              "      <th>2023-11-22 00:00:00-05:00</th>\n",
              "      <td>191.490005</td>\n",
              "      <td>192.929993</td>\n",
              "      <td>190.830002</td>\n",
              "      <td>191.309998</td>\n",
              "      <td>39617700</td>\n",
              "      <td>0.0</td>\n",
              "      <td>0.0</td>\n",
              "    </tr>\n",
              "    <tr>\n",
              "      <th>2023-11-24 00:00:00-05:00</th>\n",
              "      <td>190.869995</td>\n",
              "      <td>190.899994</td>\n",
              "      <td>189.250000</td>\n",
              "      <td>189.970001</td>\n",
              "      <td>24048300</td>\n",
              "      <td>0.0</td>\n",
              "      <td>0.0</td>\n",
              "    </tr>\n",
              "  </tbody>\n",
              "</table>\n",
              "<p>10829 rows × 7 columns</p>\n",
              "</div>\n",
              "    <div class=\"colab-df-buttons\">\n",
              "\n",
              "  <div class=\"colab-df-container\">\n",
              "    <button class=\"colab-df-convert\" onclick=\"convertToInteractive('df-3120bef2-45f0-4580-9c6c-b75851fe479e')\"\n",
              "            title=\"Convert this dataframe to an interactive table.\"\n",
              "            style=\"display:none;\">\n",
              "\n",
              "  <svg xmlns=\"http://www.w3.org/2000/svg\" height=\"24px\" viewBox=\"0 -960 960 960\">\n",
              "    <path d=\"M120-120v-720h720v720H120Zm60-500h600v-160H180v160Zm220 220h160v-160H400v160Zm0 220h160v-160H400v160ZM180-400h160v-160H180v160Zm440 0h160v-160H620v160ZM180-180h160v-160H180v160Zm440 0h160v-160H620v160Z\"/>\n",
              "  </svg>\n",
              "    </button>\n",
              "\n",
              "  <style>\n",
              "    .colab-df-container {\n",
              "      display:flex;\n",
              "      gap: 12px;\n",
              "    }\n",
              "\n",
              "    .colab-df-convert {\n",
              "      background-color: #E8F0FE;\n",
              "      border: none;\n",
              "      border-radius: 50%;\n",
              "      cursor: pointer;\n",
              "      display: none;\n",
              "      fill: #1967D2;\n",
              "      height: 32px;\n",
              "      padding: 0 0 0 0;\n",
              "      width: 32px;\n",
              "    }\n",
              "\n",
              "    .colab-df-convert:hover {\n",
              "      background-color: #E2EBFA;\n",
              "      box-shadow: 0px 1px 2px rgba(60, 64, 67, 0.3), 0px 1px 3px 1px rgba(60, 64, 67, 0.15);\n",
              "      fill: #174EA6;\n",
              "    }\n",
              "\n",
              "    .colab-df-buttons div {\n",
              "      margin-bottom: 4px;\n",
              "    }\n",
              "\n",
              "    [theme=dark] .colab-df-convert {\n",
              "      background-color: #3B4455;\n",
              "      fill: #D2E3FC;\n",
              "    }\n",
              "\n",
              "    [theme=dark] .colab-df-convert:hover {\n",
              "      background-color: #434B5C;\n",
              "      box-shadow: 0px 1px 3px 1px rgba(0, 0, 0, 0.15);\n",
              "      filter: drop-shadow(0px 1px 2px rgba(0, 0, 0, 0.3));\n",
              "      fill: #FFFFFF;\n",
              "    }\n",
              "  </style>\n",
              "\n",
              "    <script>\n",
              "      const buttonEl =\n",
              "        document.querySelector('#df-3120bef2-45f0-4580-9c6c-b75851fe479e button.colab-df-convert');\n",
              "      buttonEl.style.display =\n",
              "        google.colab.kernel.accessAllowed ? 'block' : 'none';\n",
              "\n",
              "      async function convertToInteractive(key) {\n",
              "        const element = document.querySelector('#df-3120bef2-45f0-4580-9c6c-b75851fe479e');\n",
              "        const dataTable =\n",
              "          await google.colab.kernel.invokeFunction('convertToInteractive',\n",
              "                                                    [key], {});\n",
              "        if (!dataTable) return;\n",
              "\n",
              "        const docLinkHtml = 'Like what you see? Visit the ' +\n",
              "          '<a target=\"_blank\" href=https://colab.research.google.com/notebooks/data_table.ipynb>data table notebook</a>'\n",
              "          + ' to learn more about interactive tables.';\n",
              "        element.innerHTML = '';\n",
              "        dataTable['output_type'] = 'display_data';\n",
              "        await google.colab.output.renderOutput(dataTable, element);\n",
              "        const docLink = document.createElement('div');\n",
              "        docLink.innerHTML = docLinkHtml;\n",
              "        element.appendChild(docLink);\n",
              "      }\n",
              "    </script>\n",
              "  </div>\n",
              "\n",
              "\n",
              "<div id=\"df-5840128c-ec4b-436d-88a8-0b1d9e86c664\">\n",
              "  <button class=\"colab-df-quickchart\" onclick=\"quickchart('df-5840128c-ec4b-436d-88a8-0b1d9e86c664')\"\n",
              "            title=\"Suggest charts\"\n",
              "            style=\"display:none;\">\n",
              "\n",
              "<svg xmlns=\"http://www.w3.org/2000/svg\" height=\"24px\"viewBox=\"0 0 24 24\"\n",
              "     width=\"24px\">\n",
              "    <g>\n",
              "        <path d=\"M19 3H5c-1.1 0-2 .9-2 2v14c0 1.1.9 2 2 2h14c1.1 0 2-.9 2-2V5c0-1.1-.9-2-2-2zM9 17H7v-7h2v7zm4 0h-2V7h2v10zm4 0h-2v-4h2v4z\"/>\n",
              "    </g>\n",
              "</svg>\n",
              "  </button>\n",
              "\n",
              "<style>\n",
              "  .colab-df-quickchart {\n",
              "      --bg-color: #E8F0FE;\n",
              "      --fill-color: #1967D2;\n",
              "      --hover-bg-color: #E2EBFA;\n",
              "      --hover-fill-color: #174EA6;\n",
              "      --disabled-fill-color: #AAA;\n",
              "      --disabled-bg-color: #DDD;\n",
              "  }\n",
              "\n",
              "  [theme=dark] .colab-df-quickchart {\n",
              "      --bg-color: #3B4455;\n",
              "      --fill-color: #D2E3FC;\n",
              "      --hover-bg-color: #434B5C;\n",
              "      --hover-fill-color: #FFFFFF;\n",
              "      --disabled-bg-color: #3B4455;\n",
              "      --disabled-fill-color: #666;\n",
              "  }\n",
              "\n",
              "  .colab-df-quickchart {\n",
              "    background-color: var(--bg-color);\n",
              "    border: none;\n",
              "    border-radius: 50%;\n",
              "    cursor: pointer;\n",
              "    display: none;\n",
              "    fill: var(--fill-color);\n",
              "    height: 32px;\n",
              "    padding: 0;\n",
              "    width: 32px;\n",
              "  }\n",
              "\n",
              "  .colab-df-quickchart:hover {\n",
              "    background-color: var(--hover-bg-color);\n",
              "    box-shadow: 0 1px 2px rgba(60, 64, 67, 0.3), 0 1px 3px 1px rgba(60, 64, 67, 0.15);\n",
              "    fill: var(--button-hover-fill-color);\n",
              "  }\n",
              "\n",
              "  .colab-df-quickchart-complete:disabled,\n",
              "  .colab-df-quickchart-complete:disabled:hover {\n",
              "    background-color: var(--disabled-bg-color);\n",
              "    fill: var(--disabled-fill-color);\n",
              "    box-shadow: none;\n",
              "  }\n",
              "\n",
              "  .colab-df-spinner {\n",
              "    border: 2px solid var(--fill-color);\n",
              "    border-color: transparent;\n",
              "    border-bottom-color: var(--fill-color);\n",
              "    animation:\n",
              "      spin 1s steps(1) infinite;\n",
              "  }\n",
              "\n",
              "  @keyframes spin {\n",
              "    0% {\n",
              "      border-color: transparent;\n",
              "      border-bottom-color: var(--fill-color);\n",
              "      border-left-color: var(--fill-color);\n",
              "    }\n",
              "    20% {\n",
              "      border-color: transparent;\n",
              "      border-left-color: var(--fill-color);\n",
              "      border-top-color: var(--fill-color);\n",
              "    }\n",
              "    30% {\n",
              "      border-color: transparent;\n",
              "      border-left-color: var(--fill-color);\n",
              "      border-top-color: var(--fill-color);\n",
              "      border-right-color: var(--fill-color);\n",
              "    }\n",
              "    40% {\n",
              "      border-color: transparent;\n",
              "      border-right-color: var(--fill-color);\n",
              "      border-top-color: var(--fill-color);\n",
              "    }\n",
              "    60% {\n",
              "      border-color: transparent;\n",
              "      border-right-color: var(--fill-color);\n",
              "    }\n",
              "    80% {\n",
              "      border-color: transparent;\n",
              "      border-right-color: var(--fill-color);\n",
              "      border-bottom-color: var(--fill-color);\n",
              "    }\n",
              "    90% {\n",
              "      border-color: transparent;\n",
              "      border-bottom-color: var(--fill-color);\n",
              "    }\n",
              "  }\n",
              "</style>\n",
              "\n",
              "  <script>\n",
              "    async function quickchart(key) {\n",
              "      const quickchartButtonEl =\n",
              "        document.querySelector('#' + key + ' button');\n",
              "      quickchartButtonEl.disabled = true;  // To prevent multiple clicks.\n",
              "      quickchartButtonEl.classList.add('colab-df-spinner');\n",
              "      try {\n",
              "        const charts = await google.colab.kernel.invokeFunction(\n",
              "            'suggestCharts', [key], {});\n",
              "      } catch (error) {\n",
              "        console.error('Error during call to suggestCharts:', error);\n",
              "      }\n",
              "      quickchartButtonEl.classList.remove('colab-df-spinner');\n",
              "      quickchartButtonEl.classList.add('colab-df-quickchart-complete');\n",
              "    }\n",
              "    (() => {\n",
              "      let quickchartButtonEl =\n",
              "        document.querySelector('#df-5840128c-ec4b-436d-88a8-0b1d9e86c664 button');\n",
              "      quickchartButtonEl.style.display =\n",
              "        google.colab.kernel.accessAllowed ? 'block' : 'none';\n",
              "    })();\n",
              "  </script>\n",
              "</div>\n",
              "    </div>\n",
              "  </div>\n"
            ]
          },
          "metadata": {},
          "execution_count": 4
        }
      ]
    },
    {
      "cell_type": "code",
      "source": [
        "from sklearn.preprocessing import MinMaxScaler\n",
        "import yfinance as yf\n",
        "from keras.models import Sequential\n",
        "from keras.layers import Dense, LSTM\n",
        "import matplotlib.pyplot as plt\n",
        "import math"
      ],
      "metadata": {
        "id": "1zAeWq_po9pC"
      },
      "execution_count": null,
      "outputs": []
    },
    {
      "cell_type": "markdown",
      "source": [
        "##SVR Method"
      ],
      "metadata": {
        "id": "auULXog6sdS3"
      }
    },
    {
      "cell_type": "code",
      "source": [
        "from sklearn.svm import LinearSVR\n",
        "from sklearn.preprocessing import MinMaxScaler\n",
        "from sklearn.svm import SVR\n",
        "from sklearn.metrics import precision_score"
      ],
      "metadata": {
        "id": "wgRP8EXLsS6I"
      },
      "execution_count": null,
      "outputs": []
    },
    {
      "cell_type": "code",
      "source": [
        "penny = yf.Ticker(\"MMAT\")\n",
        "penny = penny.history(period=\"max\")\n",
        "penny = penny.filter(['Close'])\n",
        "\n",
        "blue = yf.Ticker(\"MMAT\")\n",
        "blue = blue.history(period=\"max\")\n",
        "blue = blue.filter(['Close'])"
      ],
      "metadata": {
        "id": "_9Q_scej_sJH",
        "colab": {
          "base_uri": "https://localhost:8080/"
        },
        "outputId": "737cc4e3-9cea-4236-87d2-b51b3c1fa831"
      },
      "execution_count": null,
      "outputs": [
        {
          "output_type": "execute_result",
          "data": {
            "text/plain": [
              "2628"
            ]
          },
          "metadata": {},
          "execution_count": 61
        }
      ]
    },
    {
      "cell_type": "code",
      "source": [
        "train_penny_data = yf.Ticker(\"MMAT\")\n",
        "train_penny_data = train_penny_data.history(period=\"max\")\n",
        "train_penny_data = train_penny_data.filter(['Close'])\n",
        "\n",
        "train_blue_data = yf.Ticker(\"AAPL\")\n",
        "train_blue_data = train_blue_data.history(period=\"max\")\n",
        "train_blue_data = train_blue_data.filter(['Close'])\n",
        "\n",
        "test_penny_data = yf.Ticker(\"MMAT\")\n",
        "test_penny_data = test_penny_data.history(period=\"max\")\n",
        "test_penny_data = test_penny_data.filter(['Close'])\n",
        "\n",
        "test_blue_data = yf.Ticker(\"AAPL\")\n",
        "test_blue_data = test_blue_data.history(period=\"max\")\n",
        "test_blue_data = test_blue_data.filter(['Close'])"
      ],
      "metadata": {
        "id": "-6E5MIwkuix7"
      },
      "execution_count": null,
      "outputs": []
    },
    {
      "cell_type": "code",
      "source": [
        "train_penny_data = train_penny_data.loc[\"2010-12-31\":\"2020-12-31\"].copy()\n",
        "train_penny_data = train_penny_data.to_numpy()\n",
        "train_penny_data = train_penny_data.reshape(-1, 1)\n",
        "\n",
        "train_blue_data = train_blue_data.loc[\"2010-12-31\":\"2020-12-31\"].copy()\n",
        "train_blue_data = train_blue_data.to_numpy()\n",
        "train_blue_data = train_blue_data.reshape(-1, 1)\n",
        "\n",
        "test_penny_data = test_penny_data.loc[\"2020-12-31\":].copy()\n",
        "test_penny_data = test_penny_data.to_numpy()\n",
        "test_penny_data = test_penny_data.reshape(-1, 1)\n",
        "\n",
        "test_blue_data = test_blue_data.loc[\"2020-12-31\":].copy()\n",
        "test_blue_data = test_blue_data.to_numpy()\n",
        "test_blue_data = test_blue_data.reshape(-1, 1)\n",
        "\n",
        "train_penny_len = math.ceil(len(train_penny_data)*0.8)\n",
        "train_blue_len = math.ceil(len(train_blue_data)*0.8)\n"
      ],
      "metadata": {
        "id": "P_ffR7rzoFuF"
      },
      "execution_count": null,
      "outputs": []
    },
    {
      "cell_type": "code",
      "source": [
        "train_penny_data.shape"
      ],
      "metadata": {
        "colab": {
          "base_uri": "https://localhost:8080/"
        },
        "id": "-K0NzeJ0woVh",
        "outputId": "82a16d1b-65d1-4554-d9bc-15cb0549d6d6"
      },
      "execution_count": null,
      "outputs": [
        {
          "output_type": "execute_result",
          "data": {
            "text/plain": [
              "(2518, 1)"
            ]
          },
          "metadata": {},
          "execution_count": 64
        }
      ]
    },
    {
      "cell_type": "code",
      "source": [
        "train_blue_data.shape"
      ],
      "metadata": {
        "id": "Gz1Jdpegx2Yj",
        "colab": {
          "base_uri": "https://localhost:8080/"
        },
        "outputId": "8fe98a83-1517-443e-ba21-95779e79001d"
      },
      "execution_count": null,
      "outputs": [
        {
          "output_type": "execute_result",
          "data": {
            "text/plain": [
              "(2518, 1)"
            ]
          },
          "metadata": {},
          "execution_count": 65
        }
      ]
    },
    {
      "cell_type": "code",
      "source": [
        "test_penny_data.shape"
      ],
      "metadata": {
        "colab": {
          "base_uri": "https://localhost:8080/"
        },
        "id": "lOZEb2rdzzwO",
        "outputId": "f7d7c4c4-284b-4a22-9fb9-77d5dd94d63a"
      },
      "execution_count": null,
      "outputs": [
        {
          "output_type": "execute_result",
          "data": {
            "text/plain": [
              "(730, 1)"
            ]
          },
          "metadata": {},
          "execution_count": 66
        }
      ]
    },
    {
      "cell_type": "code",
      "source": [
        "test_blue_data.shape"
      ],
      "metadata": {
        "colab": {
          "base_uri": "https://localhost:8080/"
        },
        "id": "bGiTa7aBz3C7",
        "outputId": "19ac0739-ae69-4ad5-e323-3087149edeb8"
      },
      "execution_count": null,
      "outputs": [
        {
          "output_type": "execute_result",
          "data": {
            "text/plain": [
              "(730, 1)"
            ]
          },
          "metadata": {},
          "execution_count": 67
        }
      ]
    },
    {
      "cell_type": "code",
      "source": [
        "scaler = MinMaxScaler()\n",
        "\n",
        "train_blue_data = scaler.fit_transform(train_blue_data)\n",
        "test_blue_data = scaler.fit_transform(test_blue_data)\n",
        "\n",
        "train_penny_data = scaler.fit_transform(train_penny_data)\n",
        "test_penny_data = scaler.fit_transform(test_penny_data)"
      ],
      "metadata": {
        "id": "eniaMba-z231"
      },
      "execution_count": null,
      "outputs": []
    },
    {
      "cell_type": "code",
      "source": [
        "timesteps=7"
      ],
      "metadata": {
        "id": "W85HTmzx537r"
      },
      "execution_count": null,
      "outputs": []
    },
    {
      "cell_type": "code",
      "source": [
        "train_penny_timesteps=np.array([[j for j in train_penny_data[i:i+timesteps]] for i in range(0,len(train_penny_data)-timesteps+1)])[:,:,0]\n",
        "train_penny_timesteps.shape"
      ],
      "metadata": {
        "colab": {
          "base_uri": "https://localhost:8080/"
        },
        "id": "2EHUyPVk6zZE",
        "outputId": "0b6fa80c-6c4a-4cc8-d48e-c292927021e8"
      },
      "execution_count": null,
      "outputs": [
        {
          "output_type": "execute_result",
          "data": {
            "text/plain": [
              "(2512, 7)"
            ]
          },
          "metadata": {},
          "execution_count": 70
        }
      ]
    },
    {
      "cell_type": "code",
      "source": [
        "train_blue_timesteps=np.array([[j for j in train_blue_data[i:i+timesteps]] for i in range(0,len(train_blue_data)-timesteps+1)])[:,:,0]\n",
        "train_blue_timesteps.shape"
      ],
      "metadata": {
        "colab": {
          "base_uri": "https://localhost:8080/"
        },
        "id": "aV9l1_CC6uaw",
        "outputId": "0ab42e07-9b13-4d53-cca4-586207442eb6"
      },
      "execution_count": null,
      "outputs": [
        {
          "output_type": "execute_result",
          "data": {
            "text/plain": [
              "(2512, 7)"
            ]
          },
          "metadata": {},
          "execution_count": 71
        }
      ]
    },
    {
      "cell_type": "code",
      "source": [
        "test_penny_timesteps=np.array([[j for j in test_penny_data[i:i+timesteps]] for i in range(0,len(test_penny_data)-timesteps+1)])[:,:,0]\n",
        "test_penny_timesteps.shape"
      ],
      "metadata": {
        "colab": {
          "base_uri": "https://localhost:8080/"
        },
        "id": "mojLvewP6uPr",
        "outputId": "201ed662-1b56-49a8-90d8-c2a5e21ced64"
      },
      "execution_count": null,
      "outputs": [
        {
          "output_type": "execute_result",
          "data": {
            "text/plain": [
              "(724, 7)"
            ]
          },
          "metadata": {},
          "execution_count": 72
        }
      ]
    },
    {
      "cell_type": "code",
      "source": [
        "test_blue_timesteps=np.array([[j for j in test_blue_data[i:i+timesteps]] for i in range(0,len(test_blue_data)-timesteps+1)])[:,:,0]\n",
        "test_blue_timesteps.shape"
      ],
      "metadata": {
        "colab": {
          "base_uri": "https://localhost:8080/"
        },
        "id": "0-yR8bnB6uBy",
        "outputId": "dd892f06-0fe7-4646-e904-50d494206a2d"
      },
      "execution_count": null,
      "outputs": [
        {
          "output_type": "execute_result",
          "data": {
            "text/plain": [
              "(724, 7)"
            ]
          },
          "metadata": {},
          "execution_count": 73
        }
      ]
    },
    {
      "cell_type": "code",
      "source": [
        "x_penny_train, y_penny_train = train_penny_timesteps[:,:timesteps-1],train_penny_timesteps[:,[timesteps-1]]\n",
        "x_penny_test, y_penny_test = test_penny_timesteps[:,:timesteps-1],test_penny_timesteps[:,[timesteps-1]]"
      ],
      "metadata": {
        "id": "090ARqPaFCBx"
      },
      "execution_count": null,
      "outputs": []
    },
    {
      "cell_type": "code",
      "source": [
        "x_blue_train, y_blue_train = train_blue_timesteps[:,:timesteps-1],train_blue_timesteps[:,[timesteps-1]]\n",
        "x_blue_test, y_blue_test = test_blue_timesteps[:,:timesteps-1],test_blue_timesteps[:,[timesteps-1]]"
      ],
      "metadata": {
        "id": "aLd2vZHzFVld"
      },
      "execution_count": null,
      "outputs": []
    },
    {
      "cell_type": "code",
      "source": [
        "model = SVR(kernel='rbf',gamma=0.5, C=10, epsilon = 0.05)\n",
        "model2 = SVR(kernel='rbf',gamma=0.5, C=10, epsilon = 0.05)\n",
        "\n",
        "model.fit(x_penny_train, y_penny_train[:,0])\n",
        "model2.fit(x_blue_train, y_blue_train[:,0])\n"
      ],
      "metadata": {
        "colab": {
          "base_uri": "https://localhost:8080/",
          "height": 75
        },
        "id": "ZUjnB_Do7Bul",
        "outputId": "5dcc7e9c-3b0d-40e9-cd33-8a611743a4d6"
      },
      "execution_count": null,
      "outputs": [
        {
          "output_type": "execute_result",
          "data": {
            "text/plain": [
              "SVR(C=10, epsilon=0.05, gamma=0.5)"
            ],
            "text/html": [
              "<style>#sk-container-id-2 {color: black;background-color: white;}#sk-container-id-2 pre{padding: 0;}#sk-container-id-2 div.sk-toggleable {background-color: white;}#sk-container-id-2 label.sk-toggleable__label {cursor: pointer;display: block;width: 100%;margin-bottom: 0;padding: 0.3em;box-sizing: border-box;text-align: center;}#sk-container-id-2 label.sk-toggleable__label-arrow:before {content: \"▸\";float: left;margin-right: 0.25em;color: #696969;}#sk-container-id-2 label.sk-toggleable__label-arrow:hover:before {color: black;}#sk-container-id-2 div.sk-estimator:hover label.sk-toggleable__label-arrow:before {color: black;}#sk-container-id-2 div.sk-toggleable__content {max-height: 0;max-width: 0;overflow: hidden;text-align: left;background-color: #f0f8ff;}#sk-container-id-2 div.sk-toggleable__content pre {margin: 0.2em;color: black;border-radius: 0.25em;background-color: #f0f8ff;}#sk-container-id-2 input.sk-toggleable__control:checked~div.sk-toggleable__content {max-height: 200px;max-width: 100%;overflow: auto;}#sk-container-id-2 input.sk-toggleable__control:checked~label.sk-toggleable__label-arrow:before {content: \"▾\";}#sk-container-id-2 div.sk-estimator input.sk-toggleable__control:checked~label.sk-toggleable__label {background-color: #d4ebff;}#sk-container-id-2 div.sk-label input.sk-toggleable__control:checked~label.sk-toggleable__label {background-color: #d4ebff;}#sk-container-id-2 input.sk-hidden--visually {border: 0;clip: rect(1px 1px 1px 1px);clip: rect(1px, 1px, 1px, 1px);height: 1px;margin: -1px;overflow: hidden;padding: 0;position: absolute;width: 1px;}#sk-container-id-2 div.sk-estimator {font-family: monospace;background-color: #f0f8ff;border: 1px dotted black;border-radius: 0.25em;box-sizing: border-box;margin-bottom: 0.5em;}#sk-container-id-2 div.sk-estimator:hover {background-color: #d4ebff;}#sk-container-id-2 div.sk-parallel-item::after {content: \"\";width: 100%;border-bottom: 1px solid gray;flex-grow: 1;}#sk-container-id-2 div.sk-label:hover label.sk-toggleable__label {background-color: #d4ebff;}#sk-container-id-2 div.sk-serial::before {content: \"\";position: absolute;border-left: 1px solid gray;box-sizing: border-box;top: 0;bottom: 0;left: 50%;z-index: 0;}#sk-container-id-2 div.sk-serial {display: flex;flex-direction: column;align-items: center;background-color: white;padding-right: 0.2em;padding-left: 0.2em;position: relative;}#sk-container-id-2 div.sk-item {position: relative;z-index: 1;}#sk-container-id-2 div.sk-parallel {display: flex;align-items: stretch;justify-content: center;background-color: white;position: relative;}#sk-container-id-2 div.sk-item::before, #sk-container-id-2 div.sk-parallel-item::before {content: \"\";position: absolute;border-left: 1px solid gray;box-sizing: border-box;top: 0;bottom: 0;left: 50%;z-index: -1;}#sk-container-id-2 div.sk-parallel-item {display: flex;flex-direction: column;z-index: 1;position: relative;background-color: white;}#sk-container-id-2 div.sk-parallel-item:first-child::after {align-self: flex-end;width: 50%;}#sk-container-id-2 div.sk-parallel-item:last-child::after {align-self: flex-start;width: 50%;}#sk-container-id-2 div.sk-parallel-item:only-child::after {width: 0;}#sk-container-id-2 div.sk-dashed-wrapped {border: 1px dashed gray;margin: 0 0.4em 0.5em 0.4em;box-sizing: border-box;padding-bottom: 0.4em;background-color: white;}#sk-container-id-2 div.sk-label label {font-family: monospace;font-weight: bold;display: inline-block;line-height: 1.2em;}#sk-container-id-2 div.sk-label-container {text-align: center;}#sk-container-id-2 div.sk-container {/* jupyter's `normalize.less` sets `[hidden] { display: none; }` but bootstrap.min.css set `[hidden] { display: none !important; }` so we also need the `!important` here to be able to override the default hidden behavior on the sphinx rendered scikit-learn.org. See: https://github.com/scikit-learn/scikit-learn/issues/21755 */display: inline-block !important;position: relative;}#sk-container-id-2 div.sk-text-repr-fallback {display: none;}</style><div id=\"sk-container-id-2\" class=\"sk-top-container\"><div class=\"sk-text-repr-fallback\"><pre>SVR(C=10, epsilon=0.05, gamma=0.5)</pre><b>In a Jupyter environment, please rerun this cell to show the HTML representation or trust the notebook. <br />On GitHub, the HTML representation is unable to render, please try loading this page with nbviewer.org.</b></div><div class=\"sk-container\" hidden><div class=\"sk-item\"><div class=\"sk-estimator sk-toggleable\"><input class=\"sk-toggleable__control sk-hidden--visually\" id=\"sk-estimator-id-2\" type=\"checkbox\" checked><label for=\"sk-estimator-id-2\" class=\"sk-toggleable__label sk-toggleable__label-arrow\">SVR</label><div class=\"sk-toggleable__content\"><pre>SVR(C=10, epsilon=0.05, gamma=0.5)</pre></div></div></div></div></div>"
            ]
          },
          "metadata": {},
          "execution_count": 76
        }
      ]
    },
    {
      "cell_type": "code",
      "source": [
        "y_penny_train_pred = model.predict(x_penny_train).reshape(-1,1)\n",
        "y_penny_test_pred = model.predict(x_penny_test).reshape(-1,1)\n",
        "\n",
        "y_blue_train_pred = model2.predict(x_blue_train).reshape(-1,1)\n",
        "y_blue_test_pred = model2.predict(x_blue_test).reshape(-1,1)\n",
        "\n",
        "\n",
        "print(y_penny_train_pred.shape, y_penny_test_pred.shape)\n",
        "print(y_blue_train_pred.shape, y_blue_test_pred.shape)\n",
        "\n"
      ],
      "metadata": {
        "colab": {
          "base_uri": "https://localhost:8080/"
        },
        "id": "xcau1WFe7iNs",
        "outputId": "4b0139c5-7dbe-4a07-8a4d-175760fc196f"
      },
      "execution_count": null,
      "outputs": [
        {
          "output_type": "stream",
          "name": "stdout",
          "text": [
            "(2512, 1) (724, 1)\n",
            "(2512, 1) (724, 1)\n"
          ]
        }
      ]
    },
    {
      "cell_type": "code",
      "source": [
        "y_penny_train_pred = scaler.inverse_transform(y_penny_train_pred)\n",
        "y_penny_test_pred = scaler.inverse_transform(y_penny_test_pred)\n",
        "\n",
        "\n",
        "y_blue_train_pred = scaler.inverse_transform(y_blue_train_pred)\n",
        "y_blue_test_pred = scaler.inverse_transform(y_blue_test_pred)\n",
        "\n",
        "print(len(y_penny_train_pred), len(y_penny_test_pred))\n",
        "print(len(y_blue_train_pred), len(y_blue_test_pred))"
      ],
      "metadata": {
        "colab": {
          "base_uri": "https://localhost:8080/"
        },
        "id": "QXzr5yGv8RX6",
        "outputId": "a8079966-a96b-45e5-c783-68b14c379fd7"
      },
      "execution_count": null,
      "outputs": [
        {
          "output_type": "stream",
          "name": "stdout",
          "text": [
            "2512 724\n",
            "2512 724\n"
          ]
        }
      ]
    },
    {
      "cell_type": "code",
      "source": [
        "y_penny_train = scaler.inverse_transform(y_penny_train)\n",
        "y_penny_test = scaler.inverse_transform(y_penny_test)\n",
        "\n",
        "\n",
        "y_blue_train = scaler.inverse_transform(y_blue_train)\n",
        "y_blue_test = scaler.inverse_transform(y_blue_test)\n",
        "\n",
        "print(len(y_penny_train), len(y_penny_test))\n",
        "print(len(y_blue_train), len(y_blue_test))"
      ],
      "metadata": {
        "colab": {
          "base_uri": "https://localhost:8080/"
        },
        "id": "_bI9JoHmHy9z",
        "outputId": "ed626f1b-4b43-424f-c629-1da1cc45f6df"
      },
      "execution_count": null,
      "outputs": [
        {
          "output_type": "stream",
          "name": "stdout",
          "text": [
            "2512 724\n",
            "2512 724\n"
          ]
        }
      ]
    },
    {
      "cell_type": "code",
      "source": [
        "train_penny_timestamps = penny[(penny.index < \"2020-12-31\") & (penny.index >= \"2010-12-31\")].index[timesteps-1:]\n",
        "test_penny_timestamps = penny[\"2020-12-31\":].index[timesteps-1:]\n",
        "\n",
        "\n",
        "train_blue_timestamps = blue[(blue.index < \"2020-12-31\") & (blue.index >= \"2010-12-31\")].index[timesteps-1:]\n",
        "test_blue_timestamps = blue[\"2020-12-31\":].index[timesteps-1:]\n",
        "\n",
        "print(len(train_penny_timestamps), len(test_penny_timestamps))\n",
        "print(len(train_blue_timestamps), len(test_blue_timestamps))"
      ],
      "metadata": {
        "colab": {
          "base_uri": "https://localhost:8080/"
        },
        "id": "FQ52MwbbIHiC",
        "outputId": "3ab09343-04a1-4726-836f-931cf46d3da6"
      },
      "execution_count": null,
      "outputs": [
        {
          "output_type": "stream",
          "name": "stdout",
          "text": [
            "2511 724\n",
            "2511 724\n"
          ]
        }
      ]
    },
    {
      "cell_type": "markdown",
      "source": [
        "Mean Squared Error"
      ],
      "metadata": {
        "id": "1JWJyHXgj35R"
      }
    },
    {
      "cell_type": "code",
      "source": [
        "rsme = np.sqrt(np.mean(y_penny_test_pred - y_penny_test)**2)\n",
        "rsme"
      ],
      "metadata": {
        "id": "p0RAkQteKnVU",
        "outputId": "ca20d5b7-1c9b-4892-be43-f11064b54dae",
        "colab": {
          "base_uri": "https://localhost:8080/"
        }
      },
      "execution_count": null,
      "outputs": [
        {
          "output_type": "execute_result",
          "data": {
            "text/plain": [
              "0.43119241669203523"
            ]
          },
          "metadata": {},
          "execution_count": 81
        }
      ]
    },
    {
      "cell_type": "code",
      "source": [
        "\n",
        "rsme2 = np.sqrt(np.mean(y_blue_test_pred - y_blue_test)**2)\n",
        "rsme2"
      ],
      "metadata": {
        "colab": {
          "base_uri": "https://localhost:8080/"
        },
        "id": "rBLGvRVMAa02",
        "outputId": "8d86398b-73f4-4002-86ac-a39a2da22bec"
      },
      "execution_count": null,
      "outputs": [
        {
          "output_type": "execute_result",
          "data": {
            "text/plain": [
              "0.11649830303517539"
            ]
          },
          "metadata": {},
          "execution_count": 82
        }
      ]
    },
    {
      "cell_type": "markdown",
      "metadata": {
        "id": "8svgX6XV3wUl"
      },
      "source": [
        "##LSTM Neural Network Method:"
      ]
    },
    {
      "cell_type": "code",
      "execution_count": null,
      "metadata": {
        "id": "1LmvNwZSmCkC"
      },
      "outputs": [],
      "source": [
        "from sklearn.preprocessing import MinMaxScaler\n",
        "import yfinance as yf\n",
        "from keras.models import Sequential\n",
        "from keras.layers import Dense, LSTM\n",
        "import matplotlib.pyplot as plt\n",
        "import math"
      ]
    },
    {
      "cell_type": "code",
      "execution_count": null,
      "metadata": {
        "id": "SRlzm81ZnogL"
      },
      "outputs": [],
      "source": [
        "penny = yf.Ticker(\"MMAT\")\n",
        "penny = penny.history(period=\"max\")\n",
        "\n",
        "blue = yf.Ticker(\"AAPL\")\n",
        "blue = blue.history(period=\"max\")"
      ]
    },
    {
      "cell_type": "code",
      "execution_count": null,
      "metadata": {
        "id": "xlWGQGSKrGKw"
      },
      "outputs": [],
      "source": [
        "penny = penny.loc[\"2010-01-01\":].copy()\n",
        "blue = blue.loc[\"2010-01-01\":].copy()"
      ]
    },
    {
      "cell_type": "code",
      "execution_count": null,
      "metadata": {
        "colab": {
          "base_uri": "https://localhost:8080/"
        },
        "id": "ZH7vW_0YpxOj",
        "outputId": "552d2d27-8311-406c-bb2f-6dce7ac60414"
      },
      "outputs": [
        {
          "output_type": "execute_result",
          "data": {
            "text/plain": [
              "(3284, 7)"
            ]
          },
          "metadata": {},
          "execution_count": 32
        }
      ],
      "source": [
        "penny.shape"
      ]
    },
    {
      "cell_type": "code",
      "source": [
        "blue.shape"
      ],
      "metadata": {
        "id": "zktH9qo22DuR",
        "colab": {
          "base_uri": "https://localhost:8080/"
        },
        "outputId": "886d1150-68cc-43dc-f317-95c4ffb0544b"
      },
      "execution_count": null,
      "outputs": [
        {
          "output_type": "execute_result",
          "data": {
            "text/plain": [
              "(3498, 7)"
            ]
          },
          "metadata": {},
          "execution_count": 33
        }
      ]
    },
    {
      "cell_type": "code",
      "source": [
        "plt.figure(figsize=(16, 8))\n",
        "plt.title('MMAT Close Price History')\n",
        "plt.plot(penny['Close'])\n",
        "plt.xlabel('Date', fontsize=18)\n",
        "plt.ylabel('Closing Price USD ($)', fontsize=18)\n",
        "plt.show()"
      ],
      "metadata": {
        "id": "QTREpc7F2Hut",
        "colab": {
          "base_uri": "https://localhost:8080/",
          "height": 471
        },
        "outputId": "58a2ca57-9061-44f1-c396-20edcb43c2c3"
      },
      "execution_count": null,
      "outputs": [
        {
          "output_type": "display_data",
          "data": {
            "text/plain": [
              "<Figure size 1600x800 with 1 Axes>"
            ],
            "image/png": "[encoded data removed]"
          },
          "metadata": {}
        }
      ]
    },
    {
      "cell_type": "code",
      "execution_count": null,
      "metadata": {
        "colab": {
          "base_uri": "https://localhost:8080/",
          "height": 473
        },
        "id": "mYNl_pxVp6Ft",
        "outputId": "bef88fff-0238-45c2-94c1-ebd3c2c723dd"
      },
      "outputs": [
        {
          "output_type": "display_data",
          "data": {
            "text/plain": [
              "<Figure size 1600x800 with 1 Axes>"
            ],
            "image/png": "[encoded data removed]"
          },
          "metadata": {}
        }
      ],
      "source": [
        "plt.figure(figsize=(16, 8))\n",
        "plt.title('AAPL Close Price History')\n",
        "plt.plot(blue['Close'])\n",
        "plt.xlabel('Date', fontsize=18)\n",
        "plt.ylabel('Closing Price USD ($)', fontsize=18)\n",
        "plt.show()"
      ]
    },
    {
      "cell_type": "code",
      "execution_count": null,
      "metadata": {
        "colab": {
          "base_uri": "https://localhost:8080/"
        },
        "id": "eeQ2ggOsq7Sp",
        "outputId": "76e00eb7-b29d-4cfa-c2e8-7a50c9a6df08"
      },
      "outputs": [
        {
          "output_type": "execute_result",
          "data": {
            "text/plain": [
              "2628"
            ]
          },
          "metadata": {},
          "execution_count": 36
        }
      ],
      "source": [
        "penny_data = penny.filter(['Close'])\n",
        "penny_dataset = penny_data.values\n",
        "\n",
        "penny_train_data_len = math.ceil(len(penny_dataset)*0.8)\n",
        "penny_train_data_len\n",
        "\n"
      ]
    },
    {
      "cell_type": "code",
      "source": [
        "\n",
        "blue_data = blue.filter(['Close'])\n",
        "blue_dataset = blue_data.values\n",
        "\n",
        "blue_train_data_len = math.ceil(len(blue_dataset)*0.8)\n",
        "blue_train_data_len"
      ],
      "metadata": {
        "id": "iw-d9ZFb2sRl",
        "colab": {
          "base_uri": "https://localhost:8080/"
        },
        "outputId": "133955b1-be64-4eb2-d6ed-14960cc81d0b"
      },
      "execution_count": null,
      "outputs": [
        {
          "output_type": "execute_result",
          "data": {
            "text/plain": [
              "2799"
            ]
          },
          "metadata": {},
          "execution_count": 37
        }
      ]
    },
    {
      "cell_type": "code",
      "execution_count": null,
      "metadata": {
        "colab": {
          "base_uri": "https://localhost:8080/"
        },
        "id": "FlMt3-i1spzB",
        "outputId": "22a82264-a3b2-4238-e22c-0535d9e3f757"
      },
      "outputs": [
        {
          "output_type": "execute_result",
          "data": {
            "text/plain": [
              "array([[0.0215081 ],\n",
              "       [0.0215081 ],\n",
              "       [0.0215081 ],\n",
              "       ...,\n",
              "       [0.00050607],\n",
              "       [0.        ],\n",
              "       [0.        ]])"
            ]
          },
          "metadata": {},
          "execution_count": 38
        }
      ],
      "source": [
        "scaler = MinMaxScaler(feature_range=(0,1))\n",
        "scaled_penny_data = scaler.fit_transform(penny_dataset)\n",
        "scaled_penny_data"
      ]
    },
    {
      "cell_type": "code",
      "source": [
        "scaled_blue_data = scaler.fit_transform(blue_dataset)\n",
        "scaled_blue_data"
      ],
      "metadata": {
        "id": "Q_Jjv-2i261f",
        "colab": {
          "base_uri": "https://localhost:8080/"
        },
        "outputId": "40dfd9cf-9577-4e62-afb0-7ecacd83eb93"
      },
      "execution_count": null,
      "outputs": [
        {
          "output_type": "execute_result",
          "data": {
            "text/plain": [
              "array([[0.00349699],\n",
              "       [0.00355591],\n",
              "       [0.00301289],\n",
              "       ...,\n",
              "       [0.97219042],\n",
              "       [0.97571463],\n",
              "       [0.9686662 ]])"
            ]
          },
          "metadata": {},
          "execution_count": 39
        }
      ]
    },
    {
      "cell_type": "code",
      "execution_count": null,
      "metadata": {
        "colab": {
          "base_uri": "https://localhost:8080/"
        },
        "id": "-zHRcfj0vMNV",
        "outputId": "693cf491-e799-4947-fc8c-d9a4cba539e8"
      },
      "outputs": [
        {
          "output_type": "stream",
          "name": "stdout",
          "text": [
            "[array([0.0215081 , 0.0215081 , 0.0215081 , 0.0215081 , 0.0215081 ,\n",
            "       0.0215081 , 0.0215081 , 0.0215081 , 0.0215081 , 0.0215081 ,\n",
            "       0.0215081 , 0.0215081 , 0.02252024, 0.02252024, 0.02252024,\n",
            "       0.02252024, 0.02252024, 0.02252024, 0.02252024, 0.02252024,\n",
            "       0.02252024, 0.02252024, 0.10981781, 0.13512146, 0.1604251 ,\n",
            "       0.2742915 , 0.29959514, 0.29959514, 0.29959514, 0.29453442,\n",
            "       0.2742915 , 0.24898785, 0.27935222, 0.2742915 , 0.28441294,\n",
            "       0.28441294, 0.28441294, 0.28441294, 0.26417005, 0.2591093 ,\n",
            "       0.25404858, 0.27935222, 0.29453442, 0.30465586, 0.29453442,\n",
            "       0.29453442, 0.28947369, 0.29453442, 0.29959514, 0.29959514,\n",
            "       0.28441294, 0.28441294, 0.29453442, 0.29453442, 0.29453442,\n",
            "       0.29453442, 0.27935222, 0.27935222, 0.2742915 , 0.24898785])]\n",
            "[0.24898785239627444]\n",
            "\n",
            "[array([3.49699045e-03, 3.55590761e-03, 3.01289407e-03, 2.95078149e-03,\n",
            "       3.17372612e-03, 2.87594742e-03, 2.49534358e-03, 2.96193035e-03,\n",
            "       2.76765171e-03, 2.21029890e-03, 3.66100790e-03, 3.13391378e-03,\n",
            "       2.55107785e-03, 9.07682912e-04, 1.75485848e-03, 2.21188658e-03,\n",
            "       2.52082418e-03, 1.15292276e-03, 1.58767822e-06, 4.26766902e-04,\n",
            "       6.06706276e-04, 1.14337161e-03, 0.00000000e+00, 5.43013541e-04,\n",
            "       3.29630090e-04, 6.59267705e-04, 4.88874467e-04, 1.05418824e-03,\n",
            "       1.32648634e-03, 1.80740988e-03, 1.67206094e-03, 1.73256076e-03,\n",
            "       1.53191635e-03, 1.33286214e-03, 7.97807052e-04, 1.37108931e-03,\n",
            "       1.58447527e-03, 2.00168099e-03, 2.69757816e-03, 2.67529549e-03,\n",
            "       2.75172978e-03, 2.97148150e-03, 4.28365115e-03, 4.30435869e-03,\n",
            "       4.93177250e-03, 5.22159024e-03, 5.32669805e-03, 5.50187188e-03,\n",
            "       5.06235590e-03, 5.15948769e-03, 5.10694633e-03, 5.19134159e-03,\n",
            "       4.80915258e-03, 5.20726853e-03, 5.78213597e-03, 5.94297805e-03,\n",
            "       5.50982783e-03, 6.18661768e-03, 6.42388403e-03, 6.97487860e-03])]\n",
            "[0.006839514611101681]\n",
            "\n"
          ]
        }
      ],
      "source": [
        "penny_train_data = scaled_penny_data[0:penny_train_data_len, :]\n",
        "blue_train_data = scaled_blue_data[0:blue_train_data_len, :]\n",
        "\n",
        "penny_x_train = []\n",
        "penny_y_train = []\n",
        "\n",
        "blue_x_train = []\n",
        "blue_y_train = []\n",
        "\n",
        "for i in range(60, len(penny_train_data)):\n",
        "  penny_x_train.append(penny_train_data[i-60:i, 0])\n",
        "  penny_y_train.append(penny_train_data[i, 0])\n",
        "  if i<=60:\n",
        "    print(penny_x_train)\n",
        "    print(penny_y_train)\n",
        "    print()\n",
        "\n",
        "for i in range(60, len(blue_train_data)):\n",
        "  blue_x_train.append(blue_train_data[i-60:i, 0])\n",
        "  blue_y_train.append(blue_train_data[i, 0])\n",
        "  if i<=60:\n",
        "    print(blue_x_train)\n",
        "    print(blue_y_train)\n",
        "    print()"
      ]
    },
    {
      "cell_type": "code",
      "execution_count": null,
      "metadata": {
        "id": "zeNgHhBfwNXj"
      },
      "outputs": [],
      "source": [
        "penny_x_train, penny_y_train = np.array(penny_x_train), np.array(penny_y_train)\n",
        "blue_x_train, blue_y_train = np.array(blue_x_train), np.array(blue_y_train)"
      ]
    },
    {
      "cell_type": "code",
      "execution_count": null,
      "metadata": {
        "colab": {
          "base_uri": "https://localhost:8080/"
        },
        "id": "BczHtUKbwXDl",
        "outputId": "569d6524-2196-4ddf-d8e3-ce713882d95e"
      },
      "outputs": [
        {
          "output_type": "execute_result",
          "data": {
            "text/plain": [
              "(2568, 60, 1)"
            ]
          },
          "metadata": {},
          "execution_count": 42
        }
      ],
      "source": [
        "penny_x_train = np.reshape(penny_x_train, (penny_x_train.shape[0], penny_x_train.shape[1], 1))\n",
        "penny_x_train.shape"
      ]
    },
    {
      "cell_type": "code",
      "source": [
        "blue_x_train = np.reshape(blue_x_train, (blue_x_train.shape[0], blue_x_train.shape[1], 1))\n",
        "blue_x_train.shape"
      ],
      "metadata": {
        "id": "oO3fFXrn9XL9",
        "colab": {
          "base_uri": "https://localhost:8080/"
        },
        "outputId": "27e3e51a-bd16-40ad-c2f9-9353746f4231"
      },
      "execution_count": null,
      "outputs": [
        {
          "output_type": "execute_result",
          "data": {
            "text/plain": [
              "(2739, 60, 1)"
            ]
          },
          "metadata": {},
          "execution_count": 43
        }
      ]
    },
    {
      "cell_type": "code",
      "execution_count": null,
      "metadata": {
        "id": "Rys00-JPwlgo"
      },
      "outputs": [],
      "source": [
        "model1 = Sequential()\n",
        "model1.add(LSTM(50, return_sequences=True, input_shape=(penny_x_train.shape[1], 1)))\n",
        "model1.add(LSTM(50, return_sequences=False))\n",
        "model1.add(Dense(25))\n",
        "model1.add(Dense(1))"
      ]
    },
    {
      "cell_type": "code",
      "source": [
        "model2 = Sequential()\n",
        "model2.add(LSTM(50, return_sequences=True, input_shape=(blue_x_train.shape[1], 1)))\n",
        "model2.add(LSTM(50, return_sequences=False))\n",
        "model2.add(Dense(25))\n",
        "model2.add(Dense(1))"
      ],
      "metadata": {
        "id": "wH-PjGxr9kAp"
      },
      "execution_count": null,
      "outputs": []
    },
    {
      "cell_type": "code",
      "execution_count": null,
      "metadata": {
        "id": "EXsZxM6Gx_CR"
      },
      "outputs": [],
      "source": [
        "model1.compile(optimizer='adam', loss='mean_squared_error')\n",
        "model2.compile(optimizer='adam', loss='mean_squared_error')"
      ]
    },
    {
      "cell_type": "code",
      "execution_count": null,
      "metadata": {
        "colab": {
          "base_uri": "https://localhost:8080/"
        },
        "id": "hyvqP-hGyP2g",
        "outputId": "03e6bf07-5645-4aff-e78e-e6b32275361d"
      },
      "outputs": [
        {
          "output_type": "stream",
          "name": "stdout",
          "text": [
            "2568/2568 [==============================] - 110s 42ms/step - loss: 6.6366e-04\n"
          ]
        },
        {
          "output_type": "execute_result",
          "data": {
            "text/plain": [
              "<keras.src.callbacks.History at 0x7da9457857b0>"
            ]
          },
          "metadata": {},
          "execution_count": 47
        }
      ],
      "source": [
        "model1.fit(penny_x_train, penny_y_train, batch_size=1, epochs=1)"
      ]
    },
    {
      "cell_type": "code",
      "source": [
        "model2.fit(blue_x_train, blue_y_train, batch_size=1, epochs=1)"
      ],
      "metadata": {
        "id": "MslQs2yb9uG7",
        "colab": {
          "base_uri": "https://localhost:8080/"
        },
        "outputId": "60e6b17d-8547-460a-d84a-fd848b0ac5d5"
      },
      "execution_count": null,
      "outputs": [
        {
          "output_type": "stream",
          "name": "stdout",
          "text": [
            "2739/2739 [==============================] - 126s 44ms/step - loss: 5.9065e-04\n"
          ]
        },
        {
          "output_type": "execute_result",
          "data": {
            "text/plain": [
              "<keras.src.callbacks.History at 0x7da9452b3580>"
            ]
          },
          "metadata": {},
          "execution_count": 48
        }
      ]
    },
    {
      "cell_type": "code",
      "execution_count": null,
      "metadata": {
        "id": "2E0lEhaGynOw"
      },
      "outputs": [],
      "source": [
        "penny_test_data = scaled_penny_data[penny_train_data_len - 60:, :]\n",
        "blue_test_data = scaled_blue_data[blue_train_data_len - 60:, :]\n",
        "\n",
        "penny_x_test = []\n",
        "penny_y_test = penny_dataset[penny_train_data_len:, :]\n",
        "\n",
        "blue_x_test = []\n",
        "blue_y_test = blue_dataset[blue_train_data_len:, :]\n",
        "\n",
        "for i in range(60, len(penny_test_data)):\n",
        "  penny_x_test.append(penny_test_data[i-60:i, 0])\n",
        "\n",
        "for i in range(60, len(blue_test_data)):\n",
        "  blue_x_test.append(blue_test_data[i-60:i, 0])"
      ]
    },
    {
      "cell_type": "code",
      "execution_count": null,
      "metadata": {
        "id": "BDmaGa6uzU40"
      },
      "outputs": [],
      "source": [
        "penny_x_test = np.array(penny_x_test)\n",
        "penny_x_test = np.reshape(penny_x_test, (penny_x_test.shape[0], penny_x_test.shape[1], 1))"
      ]
    },
    {
      "cell_type": "code",
      "source": [
        "blue_x_test = np.array(blue_x_test)\n",
        "blue_x_test = np.reshape(blue_x_test, (blue_x_test.shape[0], blue_x_test.shape[1], 1))"
      ],
      "metadata": {
        "id": "Yzj-bCrV-d16"
      },
      "execution_count": null,
      "outputs": []
    },
    {
      "cell_type": "code",
      "execution_count": null,
      "metadata": {
        "id": "QQBHxv2Nzppa",
        "colab": {
          "base_uri": "https://localhost:8080/"
        },
        "outputId": "c319e044-d254-46b6-f296-741f572314f9"
      },
      "outputs": [
        {
          "output_type": "stream",
          "name": "stdout",
          "text": [
            "21/21 [==============================] - 2s 39ms/step\n"
          ]
        }
      ],
      "source": [
        "penny_predictions = model1.predict(penny_x_test)\n",
        "penny_predictions = scaler.inverse_transform(penny_predictions)\n",
        "\n"
      ]
    },
    {
      "cell_type": "markdown",
      "metadata": {
        "id": "fGNR8WwXkuJy"
      },
      "source": []
    },
    {
      "cell_type": "code",
      "source": [
        "blue_predictions = model2.predict(blue_x_test)\n",
        "blue_predictions = scaler.inverse_transform(blue_predictions)"
      ],
      "metadata": {
        "id": "oB2T5-bB-ovi",
        "colab": {
          "base_uri": "https://localhost:8080/"
        },
        "outputId": "a232685a-a4b6-4aef-ef2c-e27396617e6e"
      },
      "execution_count": null,
      "outputs": [
        {
          "output_type": "stream",
          "name": "stdout",
          "text": [
            "22/22 [==============================] - 2s 16ms/step\n"
          ]
        }
      ]
    },
    {
      "cell_type": "code",
      "execution_count": null,
      "metadata": {
        "id": "HUg2a7Sgz1oU",
        "colab": {
          "base_uri": "https://localhost:8080/"
        },
        "outputId": "d5f86591-b10f-4d43-cede-8481db018e90"
      },
      "outputs": [
        {
          "output_type": "execute_result",
          "data": {
            "text/plain": [
              "21.81493558086137"
            ]
          },
          "metadata": {},
          "execution_count": 54
        }
      ],
      "source": [
        "rsme1 = np.sqrt(np.mean(penny_predictions - penny_y_test)**2)\n",
        "rsme1"
      ]
    },
    {
      "cell_type": "code",
      "source": [
        "rsme2 = np.sqrt(np.mean(blue_predictions - blue_y_test)**2)\n",
        "rsme2"
      ],
      "metadata": {
        "id": "aUIdtpFU-ymb",
        "colab": {
          "base_uri": "https://localhost:8080/"
        },
        "outputId": "307c8dcc-1c6a-4757-8d97-769ca06f74ea"
      },
      "execution_count": null,
      "outputs": [
        {
          "output_type": "execute_result",
          "data": {
            "text/plain": [
              "1.0638666548612974"
            ]
          },
          "metadata": {},
          "execution_count": 55
        }
      ]
    },
    {
      "cell_type": "code",
      "execution_count": null,
      "metadata": {
        "id": "YoS1p-fXz_67",
        "colab": {
          "base_uri": "https://localhost:8080/"
        },
        "outputId": "6c083381-3a1b-4dd1-a2be-c609462fcb61"
      },
      "outputs": [
        {
          "output_type": "stream",
          "name": "stderr",
          "text": [
            "<ipython-input-56-94bec8a15bb6>:3: SettingWithCopyWarning: \n",
            "A value is trying to be set on a copy of a slice from a DataFrame.\n",
            "Try using .loc[row_indexer,col_indexer] = value instead\n",
            "\n",
            "See the caveats in the documentation: https://pandas.pydata.org/pandas-docs/stable/user_guide/indexing.html#returning-a-view-versus-a-copy\n",
            "  penny_valid['Predictions'] = penny_predictions\n"
          ]
        }
      ],
      "source": [
        "penny_train = penny[:penny_train_data_len]\n",
        "penny_valid = penny[penny_train_data_len:]\n",
        "penny_valid['Predictions'] = penny_predictions"
      ]
    },
    {
      "cell_type": "code",
      "source": [
        "blue_train = blue[:blue_train_data_len]\n",
        "blue_valid = blue[blue_train_data_len:]\n",
        "blue_valid['Predictions'] = blue_predictions"
      ],
      "metadata": {
        "id": "Vggb_ue9ACfB",
        "colab": {
          "base_uri": "https://localhost:8080/"
        },
        "outputId": "2ad85e25-e57e-4836-be62-dfa59d6b9617"
      },
      "execution_count": null,
      "outputs": [
        {
          "output_type": "stream",
          "name": "stderr",
          "text": [
            "<ipython-input-57-0c583cf66b74>:3: SettingWithCopyWarning: \n",
            "A value is trying to be set on a copy of a slice from a DataFrame.\n",
            "Try using .loc[row_indexer,col_indexer] = value instead\n",
            "\n",
            "See the caveats in the documentation: https://pandas.pydata.org/pandas-docs/stable/user_guide/indexing.html#returning-a-view-versus-a-copy\n",
            "  blue_valid['Predictions'] = blue_predictions\n"
          ]
        }
      ]
    },
    {
      "cell_type": "code",
      "source": [
        "plt.figure(figsize=(16, 8))\n",
        "plt.title('Model')\n",
        "plt.xlabel('Date', fontsize=18)\n",
        "plt.ylabel('Close Price USD($)', fontsize=18)\n",
        "plt.plot(blue_train['Close'])\n",
        "plt.plot(blue_valid[['Close', 'Predictions']])\n",
        "plt.legend(['Train', 'Val', 'Predictions'], loc='lower right')\n",
        "plt.show()"
      ],
      "metadata": {
        "id": "_HEBDkI5AZL_",
        "colab": {
          "base_uri": "https://localhost:8080/",
          "height": 473
        },
        "outputId": "9b0767eb-fe1e-478c-8515-9f0c775634f4"
      },
      "execution_count": null,
      "outputs": [
        {
          "output_type": "display_data",
          "data": {
            "text/plain": [
              "<Figure size 1600x800 with 1 Axes>"
            ],
            "image/png": "[encoded data removed]"
          },
          "metadata": {}
        }
      ]
    },
    {
      "cell_type": "code",
      "execution_count": null,
      "metadata": {
        "id": "LmQOXOjC0kjU",
        "colab": {
          "base_uri": "https://localhost:8080/",
          "height": 473
        },
        "outputId": "ba5c5ba5-2ba8-444f-bdab-cd56a06c2cb2"
      },
      "outputs": [
        {
          "output_type": "display_data",
          "data": {
            "text/plain": [
              "<Figure size 1600x800 with 1 Axes>"
            ],
            "image/png": "[encoded data removed]"
          },
          "metadata": {}
        }
      ],
      "source": [
        "plt.figure(figsize=(16, 8))\n",
        "plt.title('Model')\n",
        "plt.xlabel('Date', fontsize=18)\n",
        "plt.ylabel('Close Price USD($)', fontsize=18)\n",
        "plt.plot(penny_train['Close'])\n",
        "plt.plot(penny_valid[['Close', 'Predictions']])\n",
        "plt.legend(['Train', 'Val', 'Predictions'], loc='lower right')\n",
        "plt.show()"
      ]
    }
  ]
}